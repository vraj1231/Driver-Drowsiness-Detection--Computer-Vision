{
  "cells": [
    {
      "cell_type": "code",
      "execution_count": null,
      "metadata": {
        "colab": {
          "base_uri": "https://localhost:8080/"
        },
        "id": "ihyrihQBqMT5",
        "outputId": "d290f63d-a2be-4789-b08d-9fe7e7b024af"
      },
      "outputs": [
        {
          "output_type": "stream",
          "name": "stdout",
          "text": [
            "Drive already mounted at /content/gdrive; to attempt to forcibly remount, call drive.mount(\"/content/gdrive\", force_remount=True).\n"
          ]
        }
      ],
      "source": [
        "from google.colab import drive #using google drive for storage\n",
        "drive.mount('/content/gdrive')"
      ]
    },
    {
      "cell_type": "code",
      "execution_count": null,
      "metadata": {
        "id": "yhnd63XQwH85"
      },
      "outputs": [],
      "source": [
        "import numpy as np\n",
        "import sklearn\n",
        "from sklearn import preprocessing\n",
        "#from sklearn.datasets.samples_generator import make_blobs\n",
        "#from sklearn.preprocessing import LabelEncoder, StandardScaler\n",
        "import csv\n",
        "import os\n",
        "from tensorflow import keras\n",
        "import random\n",
        "from keras.models import Sequential\n",
        "from keras.layers import Dense, Dropout, Activation, BatchNormalization \n",
        "from keras import regularizers\n",
        "import matplotlib.pyplot as plt\n",
        "#from keras.utils import plot_model\n",
        "import sklearn\n",
        "from sklearn.metrics import confusion_matrix\n",
        "from sklearn.metrics import accuracy_score \n",
        "from sklearn.metrics import classification_report \n",
        "import pickle\n",
        "from keras.utils import np_utils\n",
        "from keras import optimizers\n",
        "from keras.models import load_model\n",
        "\n",
        "FeatureVector = []\n",
        "Y_train = []\n",
        "Y_val = []\n",
        "YTest = []"
      ]
    },
    {
      "cell_type": "code",
      "execution_count": null,
      "metadata": {
        "colab": {
          "base_uri": "https://localhost:8080/"
        },
        "id": "fxOe9fzYwIIq",
        "outputId": "efceca0d-226c-4774-fb41-c96dcc60daf4"
      },
      "outputs": [
        {
          "output_type": "stream",
          "name": "stdout",
          "text": [
            "gdrive/My Drive/DROZY.zip (Unzipped Files)/DROZY/csvfile_new/1-1.csv\n",
            "gdrive/My Drive/DROZY.zip (Unzipped Files)/DROZY/csvfile_new/1-2.csv\n",
            "gdrive/My Drive/DROZY.zip (Unzipped Files)/DROZY/csvfile_new/1-3.csv\n",
            "gdrive/My Drive/DROZY.zip (Unzipped Files)/DROZY/csvfile_new/2-1.csv\n",
            "gdrive/My Drive/DROZY.zip (Unzipped Files)/DROZY/csvfile_new/2-2.csv\n",
            "gdrive/My Drive/DROZY.zip (Unzipped Files)/DROZY/csvfile_new/2-3.csv\n",
            "gdrive/My Drive/DROZY.zip (Unzipped Files)/DROZY/csvfile_new/3-1.csv\n",
            "gdrive/My Drive/DROZY.zip (Unzipped Files)/DROZY/csvfile_new/3-2.csv\n",
            "gdrive/My Drive/DROZY.zip (Unzipped Files)/DROZY/csvfile_new/3-3.csv\n",
            "gdrive/My Drive/DROZY.zip (Unzipped Files)/DROZY/csvfile_new/4-1.csv\n",
            "gdrive/My Drive/DROZY.zip (Unzipped Files)/DROZY/csvfile_new/4-2.csv\n",
            "gdrive/My Drive/DROZY.zip (Unzipped Files)/DROZY/csvfile_new/4-3.csv\n",
            "gdrive/My Drive/DROZY.zip (Unzipped Files)/DROZY/csvfile_new/5-1.csv\n",
            "gdrive/My Drive/DROZY.zip (Unzipped Files)/DROZY/csvfile_new/5-2.csv\n",
            "gdrive/My Drive/DROZY.zip (Unzipped Files)/DROZY/csvfile_new/5-3.csv\n",
            "gdrive/My Drive/DROZY.zip (Unzipped Files)/DROZY/csvfile_new/6-1.csv\n",
            "gdrive/My Drive/DROZY.zip (Unzipped Files)/DROZY/csvfile_new/6-2.csv\n",
            "gdrive/My Drive/DROZY.zip (Unzipped Files)/DROZY/csvfile_new/6-3.csv\n",
            "gdrive/My Drive/DROZY.zip (Unzipped Files)/DROZY/csvfile_new/7-2.csv\n",
            "gdrive/My Drive/DROZY.zip (Unzipped Files)/DROZY/csvfile_new/7-3.csv\n",
            "gdrive/My Drive/DROZY.zip (Unzipped Files)/DROZY/csvfile_new/8-1.csv\n",
            "gdrive/My Drive/DROZY.zip (Unzipped Files)/DROZY/csvfile_new/8-2.csv\n",
            "gdrive/My Drive/DROZY.zip (Unzipped Files)/DROZY/csvfile_new/8-3.csv\n",
            "gdrive/My Drive/DROZY.zip (Unzipped Files)/DROZY/csvfile_new/9-2.csv\n",
            "gdrive/My Drive/DROZY.zip (Unzipped Files)/DROZY/csvfile_new/9-3.csv\n",
            "gdrive/My Drive/DROZY.zip (Unzipped Files)/DROZY/csvfile_new/10-1.csv\n",
            "gdrive/My Drive/DROZY.zip (Unzipped Files)/DROZY/csvfile_new/10-3.csv\n",
            "gdrive/My Drive/DROZY.zip (Unzipped Files)/DROZY/csvfile_new/11-1.csv\n",
            "gdrive/My Drive/DROZY.zip (Unzipped Files)/DROZY/csvfile_new/11-2.csv\n",
            "gdrive/My Drive/DROZY.zip (Unzipped Files)/DROZY/csvfile_new/11-3.csv\n",
            "gdrive/My Drive/DROZY.zip (Unzipped Files)/DROZY/csvfile_new/12-1.csv\n",
            "gdrive/My Drive/DROZY.zip (Unzipped Files)/DROZY/csvfile_new/13-1.csv\n",
            "gdrive/My Drive/DROZY.zip (Unzipped Files)/DROZY/csvfile_new/13-2.csv\n",
            "gdrive/My Drive/DROZY.zip (Unzipped Files)/DROZY/csvfile_new/14-1.csv\n",
            "gdrive/My Drive/DROZY.zip (Unzipped Files)/DROZY/csvfile_new/14-2.csv\n",
            "gdrive/My Drive/DROZY.zip (Unzipped Files)/DROZY/csvfile_new/14-3.csv\n"
          ]
        }
      ],
      "source": [
        "#loading the model\n",
        "#model = load_model(\"trained_models/DrowDet_model(output4).hdf5\")\n",
        "\n",
        "\n",
        "basename = os.path.basename(\"gdrive/My Drive/DROZY.zip (Unzipped Files)/DROZY\") \n",
        "dir= os.path.dirname('gdrive/My Drive/DROZY.zip (Unzipped Files)/DROZY')\n",
        "\n",
        "\n",
        "for (root,dirs,files) in os.walk('gdrive/My Drive/DROZY.zip (Unzipped Files)/DROZY/csvfile_new', topdown=True):\n",
        "    for x in files:\n",
        "        files=os.path.join(root, x)\n",
        "        print(files)\n",
        "\n",
        "        with open(files, 'r') as f:\n",
        "          for sline in f:\n",
        "            sline = sline.rstrip('\\n')\n",
        "            data = sline.split(',')\n",
        "            csvfile = []\n",
        "            for i in range(0,7):\n",
        "                sdata = float(data[i])\n",
        "                csvfile.append(sdata)\n",
        "            FeatureVector.append(csvfile)\n",
        "\n",
        "sFeatureVector = np.array(FeatureVector)\n",
        "\n",
        "#shuffling the data\n",
        "random.Random(4).shuffle(sFeatureVector)\n",
        "\n",
        "#splitting the training and testing data\n",
        "splitTrainStart = 0\n",
        "splitTrainEnd = int(0.7*len(sFeatureVector))\n",
        "splitValStart = int(splitTrainEnd)\n",
        "splitValEnd = int(splitValStart + 0.2*len(sFeatureVector))\n",
        "splitTestStart = int(splitValEnd)\n",
        "splitTestEnd = int(splitTestStart + 0.1*len(sFeatureVector))\n",
        "\n",
        "\n",
        "#dataset\n",
        "Xtrain = sFeatureVector[splitTrainStart:splitTrainEnd, 0:6]\n",
        "Ytrain = sFeatureVector[splitTrainStart:splitTrainEnd, -1]\n",
        "Xval = sFeatureVector[splitValStart:splitValEnd, 0:6]\n",
        "Yval = sFeatureVector[splitValStart:splitValEnd, -1]\n",
        "X_Test = sFeatureVector[splitTestStart:splitTestEnd, 0:6]\n",
        "Y_Test = sFeatureVector[splitTestStart:splitTestEnd, -1]"
      ]
    },
    {
      "cell_type": "code",
      "execution_count": null,
      "metadata": {
        "colab": {
          "base_uri": "https://localhost:8080/"
        },
        "id": "YSS8mwHJzVXQ",
        "outputId": "9cd16fbf-6908-4d8f-bb8e-41edfd52aa3f"
      },
      "outputs": [
        {
          "output_type": "execute_result",
          "data": {
            "text/plain": [
              "(105101, 7)"
            ]
          },
          "metadata": {},
          "execution_count": 5
        }
      ],
      "source": [
        "sFeatureVector.shape"
      ]
    },
    {
      "cell_type": "code",
      "execution_count": null,
      "metadata": {
        "colab": {
          "base_uri": "https://localhost:8080/"
        },
        "id": "XawPY-qxwrlK",
        "outputId": "50f3384b-bc5b-4006-ceee-46d28a9f9977"
      },
      "outputs": [
        {
          "output_type": "execute_result",
          "data": {
            "text/plain": [
              "array([ 0.       ,  0.       ,  0.       ,  0.3      ,  0.       ,\n",
              "       10.2447297])"
            ]
          },
          "metadata": {},
          "execution_count": 6
        }
      ],
      "source": [
        "Xtrain[0]"
      ]
    },
    {
      "cell_type": "code",
      "execution_count": null,
      "metadata": {
        "colab": {
          "base_uri": "https://localhost:8080/",
          "height": 124
        },
        "id": "flRQbeaQwIN8",
        "outputId": "64925c6d-593b-4bc2-8a9e-9e4c0a813e18"
      },
      "outputs": [
        {
          "output_type": "execute_result",
          "data": {
            "text/plain": [
              "'\\n#dumping the data\\npickle_off=open(\"gdrive/My Drive/DROZY.zip (Unzipped Files)/DROZY/DrowDetSys/xDrowTrainRevised.pickle\",\"rb\")\\nXtrain=pickle.load(pickle_off)\\n\\npickle_off=open(\"gdrive/My Drive/DROZY.zip (Unzipped Files)/DROZY/DrowDetSys/yDrowTrainRevised.pickle\",\"rb\")\\nYtrain=pickle.load(pickle_off)\\n\\npickle_off=open(\"gdrive/My Drive/DROZY.zip (Unzipped Files)/DROZY/DrowDetSys/xDrowValRevised.pickle\",\"rb\")\\nXval=pickle.load(pickle_off)\\n\\npickle_off=open(\"gdrive/My Drive/DROZY.zip (Unzipped Files)/DROZY/DrowDetSys/yDrowValRevised.pickle\",\"rb\")\\nYval=pickle.load(pickle_off)\\n\\npickle_off=open(\"gdrive/My Drive/DROZY.zip (Unzipped Files)/DROZY/DrowDetSys/xDrowTestRevised.pickle\",\"rb\")\\nX_Test=pickle.load(pickle_off)\\n\\npickle_off=open(\"gdrive/My Drive/DROZY.zip (Unzipped Files)/DROZY/DrowDetSys/yDrowTestRevised.pickle\",\"rb\")\\nY_Test=pickle.load(pickle_off)\\n'"
            ],
            "application/vnd.google.colaboratory.intrinsic+json": {
              "type": "string"
            }
          },
          "metadata": {},
          "execution_count": 7
        }
      ],
      "source": [
        "'''\n",
        "#dumping the data\n",
        "pickle_off=open(\"gdrive/My Drive/DROZY.zip (Unzipped Files)/DROZY/DrowDetSys/xDrowTrainRevised.pickle\",\"rb\")\n",
        "Xtrain=pickle.load(pickle_off)\n",
        "\n",
        "pickle_off=open(\"gdrive/My Drive/DROZY.zip (Unzipped Files)/DROZY/DrowDetSys/yDrowTrainRevised.pickle\",\"rb\")\n",
        "Ytrain=pickle.load(pickle_off)\n",
        "\n",
        "pickle_off=open(\"gdrive/My Drive/DROZY.zip (Unzipped Files)/DROZY/DrowDetSys/xDrowValRevised.pickle\",\"rb\")\n",
        "Xval=pickle.load(pickle_off)\n",
        "\n",
        "pickle_off=open(\"gdrive/My Drive/DROZY.zip (Unzipped Files)/DROZY/DrowDetSys/yDrowValRevised.pickle\",\"rb\")\n",
        "Yval=pickle.load(pickle_off)\n",
        "\n",
        "pickle_off=open(\"gdrive/My Drive/DROZY.zip (Unzipped Files)/DROZY/DrowDetSys/xDrowTestRevised.pickle\",\"rb\")\n",
        "X_Test=pickle.load(pickle_off)\n",
        "\n",
        "pickle_off=open(\"gdrive/My Drive/DROZY.zip (Unzipped Files)/DROZY/DrowDetSys/yDrowTestRevised.pickle\",\"rb\")\n",
        "Y_Test=pickle.load(pickle_off)\n",
        "'''"
      ]
    },
    {
      "cell_type": "code",
      "source": [
        "myset = set(Ytrain)\n",
        "print(myset)"
      ],
      "metadata": {
        "colab": {
          "base_uri": "https://localhost:8080/"
        },
        "id": "cc3sQvvrZfZq",
        "outputId": "f8c9f1ad-48f2-46bc-e6af-6621e9958a7e"
      },
      "execution_count": null,
      "outputs": [
        {
          "output_type": "stream",
          "name": "stdout",
          "text": [
            "{2.0, 3.0, 4.0, 6.0, 7.0, 8.0, 9.0}\n"
          ]
        }
      ]
    },
    {
      "cell_type": "code",
      "execution_count": null,
      "metadata": {
        "id": "ZYmRP_8JwITS"
      },
      "outputs": [],
      "source": [
        "#finding the max from the data columnwise\n",
        "max1 = Xtrain[:,0].max()\n",
        "max2 = Xtrain[:,1].max()\n",
        "max3 = Xtrain[:,2].max()\n",
        "max4 = Xtrain[:,3].max()\n",
        "max5 = Xtrain[:,4].max()\n",
        "max6 = Xtrain[:,5].max()\n",
        "\n",
        "#scaling the training data\n",
        "NormTrain1 = Xtrain[:,0]/max1\n",
        "NormTrain2 = Xtrain[:,1]/max2\n",
        "NormTrain3 = Xtrain[:,2]/max3\n",
        "NormTrain4 = Xtrain[:,3]/max4\n",
        "NormTrain5 = Xtrain[:,4]/max5\n",
        "NormTrain6 = Xtrain[:,5]/max6\n",
        "\n",
        "\n",
        "#scaling the validating data\n",
        "NormVal1 = Xval[:,0]/max1\n",
        "NormVal2 = Xval[:,1]/max2\n",
        "NormVal3 = Xval[:,2]/max3\n",
        "NormVal4 = Xval[:,3]/max4\n",
        "NormVal5 = Xval[:,4]/max5\n",
        "NormVal6 = Xval[:,5]/max6\n",
        "\n",
        "#scaling the testing data\n",
        "NormTest1 = X_Test[:,0]/max1\n",
        "NormTest2 = X_Test[:,1]/max2\n",
        "NormTest3 = X_Test[:,2]/max3\n",
        "NormTest4 = X_Test[:,3]/max4\n",
        "NormTest5 = X_Test[:,4]/max5\n",
        "NormTest6 = X_Test[:,5]/max6\n",
        "\n",
        "\n",
        "#concatenating arrays to prepare training, validating and testing data\n",
        "Xtrain = np.vstack((NormTrain1, NormTrain2, NormTrain3, NormTrain4, NormTrain5, NormTrain6))\n",
        "Xtrain = Xtrain.T\n",
        "Xval = np.vstack((NormVal1, NormVal2, NormVal3, NormVal4, NormVal5, NormVal6)) \n",
        "Xval = Xval.T\n",
        "X_Test = np.vstack((NormTest1, NormTest2, NormTest3,NormTest4, NormTest5, NormTest6))\n",
        "X_Test = X_Test.T"
      ]
    },
    {
      "cell_type": "code",
      "source": [
        "Xtrain"
      ],
      "metadata": {
        "colab": {
          "base_uri": "https://localhost:8080/"
        },
        "id": "KeruCg75ZIlS",
        "outputId": "3dd1de65-b9cb-4115-8cd9-5824c8eba829"
      },
      "execution_count": null,
      "outputs": [
        {
          "output_type": "execute_result",
          "data": {
            "text/plain": [
              "array([[0.        , 0.        , 0.        , 0.34883721, 0.        ,\n",
              "        0.02845763],\n",
              "       [0.        , 0.        , 0.        , 0.3255814 , 0.        ,\n",
              "        0.02898833],\n",
              "       [0.        , 0.        , 0.        , 0.34883721, 0.        ,\n",
              "        0.0289893 ],\n",
              "       ...,\n",
              "       [0.22048239, 0.89705882, 0.26222222, 0.44186047, 0.        ,\n",
              "        0.00916061],\n",
              "       [0.07111268, 0.42647059, 0.05674847, 0.41860465, 0.        ,\n",
              "        0.03887736],\n",
              "       [0.04527133, 0.07352941, 0.01010101, 0.34883721, 0.        ,\n",
              "        0.02858552]])"
            ]
          },
          "metadata": {},
          "execution_count": 10
        }
      ]
    },
    {
      "cell_type": "code",
      "execution_count": null,
      "metadata": {
        "colab": {
          "base_uri": "https://localhost:8080/"
        },
        "id": "3JBugeJ-zDgT",
        "outputId": "e9636599-6dc0-40a2-85cf-2f8e7af865e3"
      },
      "outputs": [
        {
          "output_type": "execute_result",
          "data": {
            "text/plain": [
              "(73570, 6)"
            ]
          },
          "metadata": {},
          "execution_count": 11
        }
      ],
      "source": [
        "Xtrain.shape"
      ]
    },
    {
      "cell_type": "code",
      "execution_count": null,
      "metadata": {
        "id": "d0P3heNcwIXE"
      },
      "outputs": [],
      "source": [
        "\n",
        "#relabeling the levels\n",
        "for i in range(len(Ytrain)):\n",
        "\tif Ytrain[i]==2 or Ytrain[i] ==3 or Ytrain[i]== 4:\n",
        "\t\tlabel = 1\n",
        "\t\tY_train.append(label)\n",
        "\telif Ytrain[i]==6 or Ytrain[i]== 5:\n",
        "\t\tlabel = 2\n",
        "\t\tY_train.append(label)\n",
        "\telse:\n",
        "\t\tlabel = 3\n",
        "\t\tY_train.append(label)\n",
        "\n",
        "\n",
        "\n",
        "for i in range(len(Yval)):\n",
        "\tif Yval[i]==2 or Yval[i]==3 or Yval[i]== 4:\n",
        "\t\tlabel = 1\n",
        "\t\tY_val.append(label)\n",
        "\telif Yval[i]==6 or Yval[i]== 5:\n",
        "\t\tlabel = 2\n",
        "\t\tY_val.append(label)\n",
        "\telse:\n",
        "\t\tlabel = 3\n",
        "\t\tY_val.append(label)\n",
        "\n",
        "\n",
        "for i in range(len(Y_Test)):\n",
        "\tif Y_Test[i]==2 or Y_Test[i]==3 or Y_Test[i]==4:\n",
        "\t\tlabel = 1\n",
        "\t\tYTest.append(label)\n",
        "\telif Y_Test[i]==5 or Y_Test[i]==6:\n",
        "\t\tlabel = 2\n",
        "\t\tYTest.append(label)\n",
        "\telse:\n",
        "\t\tlabel = 3\n",
        "\t\tYTest.append(label)\n"
      ]
    },
    {
      "cell_type": "code",
      "execution_count": null,
      "metadata": {
        "id": "zwOM9ezBhjpj"
      },
      "outputs": [],
      "source": [
        "# Ytrain = [cleaning(x) for x in Ytrain]\n",
        "# Y_Test = [cleaning(x) for x in Ytrain]\n",
        "# Yval = [cleaning(x) for x in Ytrain]"
      ]
    },
    {
      "cell_type": "code",
      "execution_count": null,
      "metadata": {
        "id": "nMdskIXZ0psJ"
      },
      "outputs": [],
      "source": [
        "\n",
        "Ytrain = np.array(Y_train)\n",
        "Yval = np.array(Y_val)\n",
        "Y_Test = np.array(YTest)\t\n"
      ]
    },
    {
      "cell_type": "code",
      "source": [
        ""
      ],
      "metadata": {
        "id": "B_oxgdroZ_u2"
      },
      "execution_count": null,
      "outputs": []
    },
    {
      "cell_type": "code",
      "execution_count": null,
      "metadata": {
        "colab": {
          "base_uri": "https://localhost:8080/"
        },
        "id": "x-LMCIEog_k6",
        "outputId": "1174a5de-7f9c-4cdf-89ee-d2e4b00ea183"
      },
      "outputs": [
        {
          "output_type": "stream",
          "name": "stdout",
          "text": [
            "{1, 2, 3}\n"
          ]
        }
      ],
      "source": [
        "myset = set(Ytrain)\n",
        "print(myset)"
      ]
    },
    {
      "cell_type": "code",
      "source": [
        "Ytrain = np_utils.to_categorical(Ytrain)\n",
        "Yval = np_utils.to_categorical(Yval)\n",
        "Y_Test = np_utils.to_categorical(Y_Test)"
      ],
      "metadata": {
        "id": "BAdPBxZMXtrO"
      },
      "execution_count": null,
      "outputs": []
    },
    {
      "cell_type": "code",
      "source": [
        "Ytrain"
      ],
      "metadata": {
        "colab": {
          "base_uri": "https://localhost:8080/"
        },
        "id": "yuFx4vHfYohM",
        "outputId": "bb187439-23d4-414d-c44b-4c5550060ba1"
      },
      "execution_count": null,
      "outputs": [
        {
          "output_type": "execute_result",
          "data": {
            "text/plain": [
              "array([[0., 1., 0., 0.],\n",
              "       [0., 1., 0., 0.],\n",
              "       [0., 1., 0., 0.],\n",
              "       ...,\n",
              "       [0., 0., 0., 1.],\n",
              "       [0., 1., 0., 0.],\n",
              "       [0., 1., 0., 0.]], dtype=float32)"
            ]
          },
          "metadata": {},
          "execution_count": 17
        }
      ]
    },
    {
      "cell_type": "code",
      "execution_count": null,
      "metadata": {
        "colab": {
          "base_uri": "https://localhost:8080/"
        },
        "id": "SxPwWZ8lwIac",
        "outputId": "73f6f2fe-4d4b-4679-f3bf-d7a976998889"
      },
      "outputs": [
        {
          "output_type": "stream",
          "name": "stdout",
          "text": [
            "WARNING:tensorflow:`period` argument is deprecated. Please use `save_freq` to specify the frequency in number of batches seen.\n",
            "Epoch 1/50\n"
          ]
        },
        {
          "output_type": "stream",
          "name": "stderr",
          "text": [
            "/usr/local/lib/python3.7/dist-packages/keras/optimizer_v2/adam.py:105: UserWarning: The `lr` argument is deprecated, use `learning_rate` instead.\n",
            "  super(Adam, self).__init__(name, **kwargs)\n"
          ]
        },
        {
          "output_type": "stream",
          "name": "stdout",
          "text": [
            "288/288 [==============================] - 2s 3ms/step - loss: 0.8878 - accuracy: 0.6584 - val_loss: 0.9569 - val_accuracy: 0.6192\n",
            "Epoch 2/50\n",
            "288/288 [==============================] - 1s 3ms/step - loss: 0.6834 - accuracy: 0.7215 - val_loss: 0.9776 - val_accuracy: 0.6384\n",
            "Epoch 3/50\n",
            "288/288 [==============================] - 1s 3ms/step - loss: 0.6085 - accuracy: 0.7439 - val_loss: 0.9194 - val_accuracy: 0.6675\n",
            "Epoch 4/50\n",
            "288/288 [==============================] - 1s 3ms/step - loss: 0.5714 - accuracy: 0.7546 - val_loss: 0.8989 - val_accuracy: 0.6770\n",
            "Epoch 5/50\n",
            "288/288 [==============================] - 1s 3ms/step - loss: 0.5467 - accuracy: 0.7685 - val_loss: 0.8939 - val_accuracy: 0.6799\n",
            "Epoch 6/50\n",
            "288/288 [==============================] - 1s 3ms/step - loss: 0.5144 - accuracy: 0.7902 - val_loss: 0.8658 - val_accuracy: 0.6987\n",
            "Epoch 7/50\n",
            "288/288 [==============================] - 1s 3ms/step - loss: 0.4873 - accuracy: 0.8078 - val_loss: 0.8364 - val_accuracy: 0.7174\n",
            "Epoch 8/50\n",
            "288/288 [==============================] - 1s 3ms/step - loss: 0.4660 - accuracy: 0.8160 - val_loss: 0.8045 - val_accuracy: 0.7206\n",
            "Epoch 9/50\n",
            "288/288 [==============================] - 1s 3ms/step - loss: 0.4408 - accuracy: 0.8279 - val_loss: 0.8571 - val_accuracy: 0.7069\n",
            "Epoch 10/50\n",
            "288/288 [==============================] - 1s 3ms/step - loss: 0.4251 - accuracy: 0.8354 - val_loss: 0.7926 - val_accuracy: 0.7222\n",
            "Epoch 11/50\n",
            "288/288 [==============================] - 1s 3ms/step - loss: 0.4067 - accuracy: 0.8448 - val_loss: 0.8144 - val_accuracy: 0.7321\n",
            "Epoch 12/50\n",
            "288/288 [==============================] - 1s 3ms/step - loss: 0.3867 - accuracy: 0.8530 - val_loss: 0.8223 - val_accuracy: 0.7352\n",
            "Epoch 13/50\n",
            "288/288 [==============================] - 1s 3ms/step - loss: 0.3744 - accuracy: 0.8577 - val_loss: 0.7654 - val_accuracy: 0.7402\n",
            "Epoch 14/50\n",
            "288/288 [==============================] - 1s 3ms/step - loss: 0.3589 - accuracy: 0.8642 - val_loss: 0.8301 - val_accuracy: 0.7449\n",
            "Epoch 15/50\n",
            "288/288 [==============================] - 1s 3ms/step - loss: 0.3468 - accuracy: 0.8676 - val_loss: 0.9038 - val_accuracy: 0.7389\n",
            "Epoch 16/50\n",
            "288/288 [==============================] - 1s 3ms/step - loss: 0.3373 - accuracy: 0.8701 - val_loss: 0.7895 - val_accuracy: 0.7574\n",
            "Epoch 17/50\n",
            "288/288 [==============================] - 1s 3ms/step - loss: 0.3226 - accuracy: 0.8753 - val_loss: 0.7816 - val_accuracy: 0.7544\n",
            "Epoch 18/50\n",
            "288/288 [==============================] - 1s 3ms/step - loss: 0.3122 - accuracy: 0.8783 - val_loss: 0.8144 - val_accuracy: 0.7568\n",
            "Epoch 19/50\n",
            "288/288 [==============================] - 1s 3ms/step - loss: 0.3057 - accuracy: 0.8808 - val_loss: 0.7667 - val_accuracy: 0.7555\n",
            "Epoch 20/50\n",
            "288/288 [==============================] - 1s 3ms/step - loss: 0.2960 - accuracy: 0.8846 - val_loss: 0.7517 - val_accuracy: 0.7657\n",
            "Epoch 21/50\n",
            "288/288 [==============================] - 1s 3ms/step - loss: 0.2880 - accuracy: 0.8859 - val_loss: 0.7730 - val_accuracy: 0.7647\n",
            "Epoch 22/50\n",
            "288/288 [==============================] - 1s 3ms/step - loss: 0.2805 - accuracy: 0.8896 - val_loss: 0.7684 - val_accuracy: 0.7685\n",
            "Epoch 23/50\n",
            "288/288 [==============================] - 1s 3ms/step - loss: 0.2699 - accuracy: 0.8932 - val_loss: 0.8551 - val_accuracy: 0.7549\n",
            "Epoch 24/50\n",
            "288/288 [==============================] - 1s 3ms/step - loss: 0.2624 - accuracy: 0.8971 - val_loss: 0.7667 - val_accuracy: 0.7791\n",
            "Epoch 25/50\n",
            "288/288 [==============================] - 1s 3ms/step - loss: 0.2556 - accuracy: 0.8989 - val_loss: 0.7720 - val_accuracy: 0.7759\n",
            "Epoch 26/50\n",
            "288/288 [==============================] - 1s 3ms/step - loss: 0.2490 - accuracy: 0.9017 - val_loss: 0.7616 - val_accuracy: 0.7860\n",
            "Epoch 27/50\n",
            "288/288 [==============================] - 1s 3ms/step - loss: 0.2403 - accuracy: 0.9069 - val_loss: 0.8293 - val_accuracy: 0.7757\n",
            "Epoch 28/50\n",
            "288/288 [==============================] - 1s 3ms/step - loss: 0.2348 - accuracy: 0.9101 - val_loss: 0.7451 - val_accuracy: 0.7963\n",
            "Epoch 29/50\n",
            "288/288 [==============================] - 1s 3ms/step - loss: 0.2275 - accuracy: 0.9128 - val_loss: 0.7886 - val_accuracy: 0.8007\n",
            "Epoch 30/50\n",
            "288/288 [==============================] - 1s 3ms/step - loss: 0.2193 - accuracy: 0.9173 - val_loss: 0.7483 - val_accuracy: 0.8065\n",
            "Epoch 31/50\n",
            "288/288 [==============================] - 1s 3ms/step - loss: 0.2188 - accuracy: 0.9177 - val_loss: 0.7889 - val_accuracy: 0.8130\n",
            "Epoch 32/50\n",
            "288/288 [==============================] - 1s 3ms/step - loss: 0.2057 - accuracy: 0.9255 - val_loss: 0.7448 - val_accuracy: 0.8089\n",
            "Epoch 33/50\n",
            "288/288 [==============================] - 1s 3ms/step - loss: 0.2061 - accuracy: 0.9247 - val_loss: 0.8041 - val_accuracy: 0.8182\n",
            "Epoch 34/50\n",
            "288/288 [==============================] - 1s 3ms/step - loss: 0.1945 - accuracy: 0.9304 - val_loss: 0.8018 - val_accuracy: 0.8238\n",
            "Epoch 35/50\n",
            "288/288 [==============================] - 1s 3ms/step - loss: 0.1875 - accuracy: 0.9339 - val_loss: 0.7607 - val_accuracy: 0.8268\n",
            "Epoch 36/50\n",
            "288/288 [==============================] - 1s 3ms/step - loss: 0.1871 - accuracy: 0.9341 - val_loss: 0.8240 - val_accuracy: 0.8298\n",
            "Epoch 37/50\n",
            "288/288 [==============================] - 1s 3ms/step - loss: 0.1773 - accuracy: 0.9385 - val_loss: 0.7686 - val_accuracy: 0.8300\n",
            "Epoch 38/50\n",
            "288/288 [==============================] - 1s 3ms/step - loss: 0.1753 - accuracy: 0.9388 - val_loss: 0.7939 - val_accuracy: 0.8378\n",
            "Epoch 39/50\n",
            "288/288 [==============================] - 1s 3ms/step - loss: 0.1667 - accuracy: 0.9432 - val_loss: 0.7816 - val_accuracy: 0.8480\n",
            "Epoch 40/50\n",
            "288/288 [==============================] - 1s 3ms/step - loss: 0.1629 - accuracy: 0.9448 - val_loss: 0.8376 - val_accuracy: 0.8372\n",
            "Epoch 41/50\n",
            "288/288 [==============================] - 1s 3ms/step - loss: 0.1606 - accuracy: 0.9448 - val_loss: 0.8288 - val_accuracy: 0.8457\n",
            "Epoch 42/50\n",
            "288/288 [==============================] - 1s 3ms/step - loss: 0.1527 - accuracy: 0.9477 - val_loss: 0.7943 - val_accuracy: 0.8446\n",
            "Epoch 43/50\n",
            "288/288 [==============================] - 1s 3ms/step - loss: 0.1530 - accuracy: 0.9467 - val_loss: 0.7808 - val_accuracy: 0.8517\n",
            "Epoch 44/50\n",
            "288/288 [==============================] - 1s 3ms/step - loss: 0.1466 - accuracy: 0.9504 - val_loss: 0.7838 - val_accuracy: 0.8578\n",
            "Epoch 45/50\n",
            "288/288 [==============================] - 1s 3ms/step - loss: 0.1443 - accuracy: 0.9511 - val_loss: 0.7955 - val_accuracy: 0.8572\n",
            "Epoch 46/50\n",
            "288/288 [==============================] - 1s 3ms/step - loss: 0.1411 - accuracy: 0.9510 - val_loss: 0.8120 - val_accuracy: 0.8524\n",
            "Epoch 47/50\n",
            "288/288 [==============================] - 1s 3ms/step - loss: 0.1366 - accuracy: 0.9538 - val_loss: 0.8209 - val_accuracy: 0.8557\n",
            "Epoch 48/50\n",
            "288/288 [==============================] - 1s 3ms/step - loss: 0.1369 - accuracy: 0.9531 - val_loss: 0.8337 - val_accuracy: 0.8535\n",
            "Epoch 49/50\n",
            "288/288 [==============================] - 1s 3ms/step - loss: 0.1323 - accuracy: 0.9549 - val_loss: 0.8402 - val_accuracy: 0.8605\n",
            "Epoch 50/50\n",
            "288/288 [==============================] - 1s 3ms/step - loss: 0.1315 - accuracy: 0.9548 - val_loss: 0.8361 - val_accuracy: 0.8674\n"
          ]
        }
      ],
      "source": [
        "\n",
        "\n",
        "\n",
        "\n",
        "#one h0t encode outputs\n",
        "\n",
        "\n",
        "\n",
        "\n",
        "#designing the model\n",
        "model=Sequential()\n",
        "model.add(Dense(64, input_dim=6, activation='relu'))\n",
        "model.add(Dropout(0.001))\n",
        "model.add(Dense(64, input_dim=6, activation='relu'))\n",
        "model.add(Dropout(0.001))\n",
        "model.add(Dense(32, input_dim=6, activation='relu'))\n",
        "model.add(Dense(16, input_dim=6, activation='relu'))\n",
        "model.add(Dense(4, activation='softmax', use_bias=False))\n",
        "\n",
        "#compile the model\n",
        "#adam = keras.optimizers.Adam(lr=0.01)\n",
        "adam = keras.optimizers.Adam(lr=0.001)\n",
        "model.compile(loss='categorical_crossentropy', optimizer=adam, metrics=['accuracy']) \n",
        "\n",
        "\n",
        "#fit the model\n",
        "checkpoint = keras.callbacks.ModelCheckpoint(filepath=\"trained_models/DrowDet_model(output4).hdf5\", period=1)\n",
        "tbCallBack = keras.callbacks.TensorBoard(log_dir='./scalar', histogram_freq=0, write_graph=True, write_images=True)\n",
        "history=model.fit(Xtrain, Ytrain, epochs=50, batch_size=256, callbacks=[checkpoint, tbCallBack], validation_data=(Xval,Yval))\n"
      ]
    },
    {
      "cell_type": "code",
      "execution_count": null,
      "metadata": {
        "id": "EJfz2IS2TNJQ",
        "colab": {
          "base_uri": "https://localhost:8080/",
          "height": 343
        },
        "outputId": "79a0acb5-9689-4f4b-8078-106272e391f1"
      },
      "outputs": [
        {
          "output_type": "execute_result",
          "data": {
            "text/plain": [
              "(0.0, 2.0)"
            ]
          },
          "metadata": {},
          "execution_count": 19
        },
        {
          "output_type": "display_data",
          "data": {
            "text/plain": [
              "<Figure size 864x720 with 2 Axes>"
            ],
            "image/png": "[encoded data removed]"
          },
          "metadata": {
            "needs_background": "light"
          }
        }
      ],
      "source": [
        "plt.figure(figsize=(12,10))\n",
        "plt.subplot(2,2,1)\n",
        "plt.plot(history.history['accuracy'])\n",
        "plt.plot(history.history['val_accuracy'])\n",
        "plt.ylim(0, 1)\n",
        "plt.title('Training Accuracy vs Validation Accuracy ')\n",
        "plt.ylabel('accuracy')\n",
        "plt.xlabel('epoch')\n",
        "plt.legend(['train', 'valid'], loc='lower right')\n",
        "plt.subplot(2,2,2)\n",
        "plt.plot(history.history['loss'])\n",
        "plt.plot(history.history['val_loss'])\n",
        "plt.title('Training Loss vs Validation Loss')\n",
        "plt.ylabel('loss')\n",
        "plt.xlabel('epoch')\n",
        "plt.legend(['train', 'valid'], loc='upper right')\n",
        "plt.ylim([0,2])"
      ]
    },
    {
      "cell_type": "code",
      "execution_count": null,
      "metadata": {
        "id": "31_UGhyXwIfu",
        "colab": {
          "base_uri": "https://localhost:8080/"
        },
        "outputId": "e6d6c07a-0f74-4111-b22e-4d0fd3cade7c"
      },
      "outputs": [
        {
          "output_type": "stream",
          "name": "stdout",
          "text": [
            "testing Confusion Matrix :\n",
            "[[4465   97  703]\n",
            " [ 492  973  139]\n",
            " [1032   75 2534]]\n",
            "testing Accuracy Score : 0.7585156993339677\n",
            "testing Report : \n",
            "              precision    recall  f1-score   support\n",
            "\n",
            "           1       0.75      0.85      0.79      5265\n",
            "           2       0.85      0.61      0.71      1604\n",
            "           3       0.75      0.70      0.72      3641\n",
            "\n",
            "    accuracy                           0.76     10510\n",
            "   macro avg       0.78      0.72      0.74     10510\n",
            "weighted avg       0.76      0.76      0.76     10510\n",
            "\n"
          ]
        }
      ],
      "source": [
        "\n",
        "#calculating the testing score of the data\n",
        "predictions=model.predict(X_Test)\n",
        "prob3=predictions.argmax(axis=1)\n",
        "y_true=Y_Test.argmax(axis=1)\n",
        "y_prediction=prob3\n",
        "\n",
        "#confusion matrix\n",
        "results = confusion_matrix(y_true, y_prediction) \n",
        "print('testing Confusion Matrix :')\n",
        "print(results) \n",
        "print('testing Accuracy Score :',accuracy_score(y_true, y_prediction)) \n",
        "print('testing Report : ')\n",
        "print(classification_report(y_true, y_prediction)) \n",
        "\n"
      ]
    },
    {
      "cell_type": "code",
      "execution_count": null,
      "metadata": {
        "id": "hfEsooFWwIi1",
        "colab": {
          "base_uri": "https://localhost:8080/",
          "height": 1000
        },
        "outputId": "087dd62a-01ba-4bcd-e5fa-35e29ba58368"
      },
      "outputs": [
        {
          "output_type": "stream",
          "name": "stdout",
          "text": [
            "WARNING:tensorflow:`period` argument is deprecated. Please use `save_freq` to specify the frequency in number of batches seen.\n",
            "Epoch 1/100\n"
          ]
        },
        {
          "output_type": "stream",
          "name": "stderr",
          "text": [
            "/usr/local/lib/python3.7/dist-packages/keras/optimizer_v2/adam.py:105: UserWarning: The `lr` argument is deprecated, use `learning_rate` instead.\n",
            "  super(Adam, self).__init__(name, **kwargs)\n"
          ]
        },
        {
          "output_type": "stream",
          "name": "stdout",
          "text": [
            "288/288 [==============================] - 1s 3ms/step - loss: 0.9180 - accuracy: 0.6412 - val_loss: 0.9160 - val_accuracy: 0.5706\n",
            "Epoch 2/100\n",
            "288/288 [==============================] - 1s 2ms/step - loss: 0.7486 - accuracy: 0.6928 - val_loss: 0.9039 - val_accuracy: 0.6236\n",
            "Epoch 3/100\n",
            "288/288 [==============================] - 1s 2ms/step - loss: 0.7042 - accuracy: 0.7095 - val_loss: 0.8877 - val_accuracy: 0.6403\n",
            "Epoch 4/100\n",
            "288/288 [==============================] - 1s 2ms/step - loss: 0.6729 - accuracy: 0.7232 - val_loss: 0.8807 - val_accuracy: 0.6527\n",
            "Epoch 5/100\n",
            "288/288 [==============================] - 1s 3ms/step - loss: 0.6403 - accuracy: 0.7356 - val_loss: 0.8839 - val_accuracy: 0.6459\n",
            "Epoch 6/100\n",
            "288/288 [==============================] - 1s 3ms/step - loss: 0.6096 - accuracy: 0.7452 - val_loss: 0.8504 - val_accuracy: 0.6651\n",
            "Epoch 7/100\n",
            "288/288 [==============================] - 1s 3ms/step - loss: 0.5725 - accuracy: 0.7582 - val_loss: 0.8630 - val_accuracy: 0.6678\n",
            "Epoch 8/100\n",
            "288/288 [==============================] - 1s 3ms/step - loss: 0.5396 - accuracy: 0.7758 - val_loss: 0.8225 - val_accuracy: 0.6900\n",
            "Epoch 9/100\n",
            "288/288 [==============================] - 1s 2ms/step - loss: 0.5102 - accuracy: 0.7999 - val_loss: 0.8518 - val_accuracy: 0.6940\n",
            "Epoch 10/100\n",
            "288/288 [==============================] - 1s 2ms/step - loss: 0.4877 - accuracy: 0.8146 - val_loss: 0.8283 - val_accuracy: 0.7082\n",
            "Epoch 11/100\n",
            "288/288 [==============================] - 1s 3ms/step - loss: 0.4694 - accuracy: 0.8250 - val_loss: 0.8310 - val_accuracy: 0.7034\n",
            "Epoch 12/100\n",
            "288/288 [==============================] - 1s 3ms/step - loss: 0.4570 - accuracy: 0.8304 - val_loss: 0.8440 - val_accuracy: 0.7128\n",
            "Epoch 13/100\n",
            "288/288 [==============================] - 1s 3ms/step - loss: 0.4455 - accuracy: 0.8352 - val_loss: 0.8297 - val_accuracy: 0.7137\n",
            "Epoch 14/100\n",
            "288/288 [==============================] - 1s 3ms/step - loss: 0.4354 - accuracy: 0.8392 - val_loss: 0.8232 - val_accuracy: 0.7178\n",
            "Epoch 15/100\n",
            "288/288 [==============================] - 1s 3ms/step - loss: 0.4287 - accuracy: 0.8409 - val_loss: 0.8404 - val_accuracy: 0.7165\n",
            "Epoch 16/100\n",
            "288/288 [==============================] - 1s 3ms/step - loss: 0.4217 - accuracy: 0.8443 - val_loss: 0.8310 - val_accuracy: 0.7153\n",
            "Epoch 17/100\n",
            "288/288 [==============================] - 1s 3ms/step - loss: 0.4164 - accuracy: 0.8457 - val_loss: 0.8453 - val_accuracy: 0.7256\n",
            "Epoch 18/100\n",
            "288/288 [==============================] - 1s 3ms/step - loss: 0.4116 - accuracy: 0.8480 - val_loss: 0.8708 - val_accuracy: 0.7337\n",
            "Epoch 19/100\n",
            "288/288 [==============================] - 1s 3ms/step - loss: 0.4091 - accuracy: 0.8494 - val_loss: 0.8622 - val_accuracy: 0.7316\n",
            "Epoch 20/100\n",
            "288/288 [==============================] - 1s 3ms/step - loss: 0.4034 - accuracy: 0.8508 - val_loss: 0.8611 - val_accuracy: 0.7288\n",
            "Epoch 21/100\n",
            "191/288 [==================>...........] - ETA: 0s - loss: 0.3982 - accuracy: 0.8537"
          ]
        },
        {
          "output_type": "error",
          "ename": "KeyboardInterrupt",
          "evalue": "ignored",
          "traceback": [
            "\u001b[0;31m---------------------------------------------------------------------------\u001b[0m",
            "\u001b[0;31mKeyboardInterrupt\u001b[0m                         Traceback (most recent call last)",
            "\u001b[0;32m<ipython-input-21-2dd20558d657>\u001b[0m in \u001b[0;36m<module>\u001b[0;34m()\u001b[0m\n\u001b[1;32m     16\u001b[0m \u001b[0mcheckpoint\u001b[0m \u001b[0;34m=\u001b[0m \u001b[0mkeras\u001b[0m\u001b[0;34m.\u001b[0m\u001b[0mcallbacks\u001b[0m\u001b[0;34m.\u001b[0m\u001b[0mModelCheckpoint\u001b[0m\u001b[0;34m(\u001b[0m\u001b[0mfilepath\u001b[0m\u001b[0;34m=\u001b[0m\u001b[0;34m\"trained_models/DrowDet_model(output4).hdf5\"\u001b[0m\u001b[0;34m,\u001b[0m \u001b[0mperiod\u001b[0m\u001b[0;34m=\u001b[0m\u001b[0;36m1\u001b[0m\u001b[0;34m)\u001b[0m\u001b[0;34m\u001b[0m\u001b[0;34m\u001b[0m\u001b[0m\n\u001b[1;32m     17\u001b[0m \u001b[0mtbCallBack\u001b[0m \u001b[0;34m=\u001b[0m \u001b[0mkeras\u001b[0m\u001b[0;34m.\u001b[0m\u001b[0mcallbacks\u001b[0m\u001b[0;34m.\u001b[0m\u001b[0mTensorBoard\u001b[0m\u001b[0;34m(\u001b[0m\u001b[0mlog_dir\u001b[0m\u001b[0;34m=\u001b[0m\u001b[0;34m'./scalar'\u001b[0m\u001b[0;34m,\u001b[0m \u001b[0mhistogram_freq\u001b[0m\u001b[0;34m=\u001b[0m\u001b[0;36m0\u001b[0m\u001b[0;34m,\u001b[0m \u001b[0mwrite_graph\u001b[0m\u001b[0;34m=\u001b[0m\u001b[0;32mTrue\u001b[0m\u001b[0;34m,\u001b[0m \u001b[0mwrite_images\u001b[0m\u001b[0;34m=\u001b[0m\u001b[0;32mTrue\u001b[0m\u001b[0;34m)\u001b[0m\u001b[0;34m\u001b[0m\u001b[0;34m\u001b[0m\u001b[0m\n\u001b[0;32m---> 18\u001b[0;31m \u001b[0mhistory\u001b[0m\u001b[0;34m=\u001b[0m\u001b[0mmodel\u001b[0m\u001b[0;34m.\u001b[0m\u001b[0mfit\u001b[0m\u001b[0;34m(\u001b[0m\u001b[0mXtrain\u001b[0m\u001b[0;34m,\u001b[0m \u001b[0mYtrain\u001b[0m\u001b[0;34m,\u001b[0m \u001b[0mepochs\u001b[0m\u001b[0;34m=\u001b[0m\u001b[0;36m100\u001b[0m\u001b[0;34m,\u001b[0m \u001b[0mbatch_size\u001b[0m\u001b[0;34m=\u001b[0m\u001b[0;36m256\u001b[0m\u001b[0;34m,\u001b[0m \u001b[0mcallbacks\u001b[0m\u001b[0;34m=\u001b[0m\u001b[0;34m[\u001b[0m\u001b[0mcheckpoint\u001b[0m\u001b[0;34m,\u001b[0m \u001b[0mtbCallBack\u001b[0m\u001b[0;34m]\u001b[0m\u001b[0;34m,\u001b[0m \u001b[0mvalidation_data\u001b[0m\u001b[0;34m=\u001b[0m\u001b[0;34m(\u001b[0m\u001b[0mXval\u001b[0m\u001b[0;34m,\u001b[0m\u001b[0mYval\u001b[0m\u001b[0;34m)\u001b[0m\u001b[0;34m)\u001b[0m\u001b[0;34m\u001b[0m\u001b[0;34m\u001b[0m\u001b[0m\n\u001b[0m",
            "\u001b[0;32m/usr/local/lib/python3.7/dist-packages/keras/utils/traceback_utils.py\u001b[0m in \u001b[0;36merror_handler\u001b[0;34m(*args, **kwargs)\u001b[0m\n\u001b[1;32m     62\u001b[0m     \u001b[0mfiltered_tb\u001b[0m \u001b[0;34m=\u001b[0m \u001b[0;32mNone\u001b[0m\u001b[0;34m\u001b[0m\u001b[0;34m\u001b[0m\u001b[0m\n\u001b[1;32m     63\u001b[0m     \u001b[0;32mtry\u001b[0m\u001b[0;34m:\u001b[0m\u001b[0;34m\u001b[0m\u001b[0;34m\u001b[0m\u001b[0m\n\u001b[0;32m---> 64\u001b[0;31m       \u001b[0;32mreturn\u001b[0m \u001b[0mfn\u001b[0m\u001b[0;34m(\u001b[0m\u001b[0;34m*\u001b[0m\u001b[0margs\u001b[0m\u001b[0;34m,\u001b[0m \u001b[0;34m**\u001b[0m\u001b[0mkwargs\u001b[0m\u001b[0;34m)\u001b[0m\u001b[0;34m\u001b[0m\u001b[0;34m\u001b[0m\u001b[0m\n\u001b[0m\u001b[1;32m     65\u001b[0m     \u001b[0;32mexcept\u001b[0m \u001b[0mException\u001b[0m \u001b[0;32mas\u001b[0m \u001b[0me\u001b[0m\u001b[0;34m:\u001b[0m  \u001b[0;31m# pylint: disable=broad-except\u001b[0m\u001b[0;34m\u001b[0m\u001b[0;34m\u001b[0m\u001b[0m\n\u001b[1;32m     66\u001b[0m       \u001b[0mfiltered_tb\u001b[0m \u001b[0;34m=\u001b[0m \u001b[0m_process_traceback_frames\u001b[0m\u001b[0;34m(\u001b[0m\u001b[0me\u001b[0m\u001b[0;34m.\u001b[0m\u001b[0m__traceback__\u001b[0m\u001b[0;34m)\u001b[0m\u001b[0;34m\u001b[0m\u001b[0;34m\u001b[0m\u001b[0m\n",
            "\u001b[0;32m/usr/local/lib/python3.7/dist-packages/keras/engine/training.py\u001b[0m in \u001b[0;36mfit\u001b[0;34m(self, x, y, batch_size, epochs, verbose, callbacks, validation_split, validation_data, shuffle, class_weight, sample_weight, initial_epoch, steps_per_epoch, validation_steps, validation_batch_size, validation_freq, max_queue_size, workers, use_multiprocessing)\u001b[0m\n\u001b[1;32m   1387\u001b[0m               \u001b[0mlogs\u001b[0m \u001b[0;34m=\u001b[0m \u001b[0mtmp_logs\u001b[0m  \u001b[0;31m# No error, now safe to assign to logs.\u001b[0m\u001b[0;34m\u001b[0m\u001b[0;34m\u001b[0m\u001b[0m\n\u001b[1;32m   1388\u001b[0m               \u001b[0mend_step\u001b[0m \u001b[0;34m=\u001b[0m \u001b[0mstep\u001b[0m \u001b[0;34m+\u001b[0m \u001b[0mdata_handler\u001b[0m\u001b[0;34m.\u001b[0m\u001b[0mstep_increment\u001b[0m\u001b[0;34m\u001b[0m\u001b[0;34m\u001b[0m\u001b[0m\n\u001b[0;32m-> 1389\u001b[0;31m               \u001b[0mcallbacks\u001b[0m\u001b[0;34m.\u001b[0m\u001b[0mon_train_batch_end\u001b[0m\u001b[0;34m(\u001b[0m\u001b[0mend_step\u001b[0m\u001b[0;34m,\u001b[0m \u001b[0mlogs\u001b[0m\u001b[0;34m)\u001b[0m\u001b[0;34m\u001b[0m\u001b[0;34m\u001b[0m\u001b[0m\n\u001b[0m\u001b[1;32m   1390\u001b[0m               \u001b[0;32mif\u001b[0m \u001b[0mself\u001b[0m\u001b[0;34m.\u001b[0m\u001b[0mstop_training\u001b[0m\u001b[0;34m:\u001b[0m\u001b[0;34m\u001b[0m\u001b[0;34m\u001b[0m\u001b[0m\n\u001b[1;32m   1391\u001b[0m                 \u001b[0;32mbreak\u001b[0m\u001b[0;34m\u001b[0m\u001b[0;34m\u001b[0m\u001b[0m\n",
            "\u001b[0;32m/usr/local/lib/python3.7/dist-packages/keras/callbacks.py\u001b[0m in \u001b[0;36mon_train_batch_end\u001b[0;34m(self, batch, logs)\u001b[0m\n\u001b[1;32m    436\u001b[0m     \"\"\"\n\u001b[1;32m    437\u001b[0m     \u001b[0;32mif\u001b[0m \u001b[0mself\u001b[0m\u001b[0;34m.\u001b[0m\u001b[0m_should_call_train_batch_hooks\u001b[0m\u001b[0;34m:\u001b[0m\u001b[0;34m\u001b[0m\u001b[0;34m\u001b[0m\u001b[0m\n\u001b[0;32m--> 438\u001b[0;31m       \u001b[0mself\u001b[0m\u001b[0;34m.\u001b[0m\u001b[0m_call_batch_hook\u001b[0m\u001b[0;34m(\u001b[0m\u001b[0mModeKeys\u001b[0m\u001b[0;34m.\u001b[0m\u001b[0mTRAIN\u001b[0m\u001b[0;34m,\u001b[0m \u001b[0;34m'end'\u001b[0m\u001b[0;34m,\u001b[0m \u001b[0mbatch\u001b[0m\u001b[0;34m,\u001b[0m \u001b[0mlogs\u001b[0m\u001b[0;34m=\u001b[0m\u001b[0mlogs\u001b[0m\u001b[0;34m)\u001b[0m\u001b[0;34m\u001b[0m\u001b[0;34m\u001b[0m\u001b[0m\n\u001b[0m\u001b[1;32m    439\u001b[0m \u001b[0;34m\u001b[0m\u001b[0m\n\u001b[1;32m    440\u001b[0m   \u001b[0;32mdef\u001b[0m \u001b[0mon_test_batch_begin\u001b[0m\u001b[0;34m(\u001b[0m\u001b[0mself\u001b[0m\u001b[0;34m,\u001b[0m \u001b[0mbatch\u001b[0m\u001b[0;34m,\u001b[0m \u001b[0mlogs\u001b[0m\u001b[0;34m=\u001b[0m\u001b[0;32mNone\u001b[0m\u001b[0;34m)\u001b[0m\u001b[0;34m:\u001b[0m\u001b[0;34m\u001b[0m\u001b[0;34m\u001b[0m\u001b[0m\n",
            "\u001b[0;32m/usr/local/lib/python3.7/dist-packages/keras/callbacks.py\u001b[0m in \u001b[0;36m_call_batch_hook\u001b[0;34m(self, mode, hook, batch, logs)\u001b[0m\n\u001b[1;32m    295\u001b[0m       \u001b[0mself\u001b[0m\u001b[0;34m.\u001b[0m\u001b[0m_call_batch_begin_hook\u001b[0m\u001b[0;34m(\u001b[0m\u001b[0mmode\u001b[0m\u001b[0;34m,\u001b[0m \u001b[0mbatch\u001b[0m\u001b[0;34m,\u001b[0m \u001b[0mlogs\u001b[0m\u001b[0;34m)\u001b[0m\u001b[0;34m\u001b[0m\u001b[0;34m\u001b[0m\u001b[0m\n\u001b[1;32m    296\u001b[0m     \u001b[0;32melif\u001b[0m \u001b[0mhook\u001b[0m \u001b[0;34m==\u001b[0m \u001b[0;34m'end'\u001b[0m\u001b[0;34m:\u001b[0m\u001b[0;34m\u001b[0m\u001b[0;34m\u001b[0m\u001b[0m\n\u001b[0;32m--> 297\u001b[0;31m       \u001b[0mself\u001b[0m\u001b[0;34m.\u001b[0m\u001b[0m_call_batch_end_hook\u001b[0m\u001b[0;34m(\u001b[0m\u001b[0mmode\u001b[0m\u001b[0;34m,\u001b[0m \u001b[0mbatch\u001b[0m\u001b[0;34m,\u001b[0m \u001b[0mlogs\u001b[0m\u001b[0;34m)\u001b[0m\u001b[0;34m\u001b[0m\u001b[0;34m\u001b[0m\u001b[0m\n\u001b[0m\u001b[1;32m    298\u001b[0m     \u001b[0;32melse\u001b[0m\u001b[0;34m:\u001b[0m\u001b[0;34m\u001b[0m\u001b[0;34m\u001b[0m\u001b[0m\n\u001b[1;32m    299\u001b[0m       raise ValueError(\n",
            "\u001b[0;32m/usr/local/lib/python3.7/dist-packages/keras/callbacks.py\u001b[0m in \u001b[0;36m_call_batch_end_hook\u001b[0;34m(self, mode, batch, logs)\u001b[0m\n\u001b[1;32m    316\u001b[0m       \u001b[0mself\u001b[0m\u001b[0;34m.\u001b[0m\u001b[0m_batch_times\u001b[0m\u001b[0;34m.\u001b[0m\u001b[0mappend\u001b[0m\u001b[0;34m(\u001b[0m\u001b[0mbatch_time\u001b[0m\u001b[0;34m)\u001b[0m\u001b[0;34m\u001b[0m\u001b[0;34m\u001b[0m\u001b[0m\n\u001b[1;32m    317\u001b[0m \u001b[0;34m\u001b[0m\u001b[0m\n\u001b[0;32m--> 318\u001b[0;31m     \u001b[0mself\u001b[0m\u001b[0;34m.\u001b[0m\u001b[0m_call_batch_hook_helper\u001b[0m\u001b[0;34m(\u001b[0m\u001b[0mhook_name\u001b[0m\u001b[0;34m,\u001b[0m \u001b[0mbatch\u001b[0m\u001b[0;34m,\u001b[0m \u001b[0mlogs\u001b[0m\u001b[0;34m)\u001b[0m\u001b[0;34m\u001b[0m\u001b[0;34m\u001b[0m\u001b[0m\n\u001b[0m\u001b[1;32m    319\u001b[0m \u001b[0;34m\u001b[0m\u001b[0m\n\u001b[1;32m    320\u001b[0m     \u001b[0;32mif\u001b[0m \u001b[0mlen\u001b[0m\u001b[0;34m(\u001b[0m\u001b[0mself\u001b[0m\u001b[0;34m.\u001b[0m\u001b[0m_batch_times\u001b[0m\u001b[0;34m)\u001b[0m \u001b[0;34m>=\u001b[0m \u001b[0mself\u001b[0m\u001b[0;34m.\u001b[0m\u001b[0m_num_batches_for_timing_check\u001b[0m\u001b[0;34m:\u001b[0m\u001b[0;34m\u001b[0m\u001b[0;34m\u001b[0m\u001b[0m\n",
            "\u001b[0;32m/usr/local/lib/python3.7/dist-packages/keras/callbacks.py\u001b[0m in \u001b[0;36m_call_batch_hook_helper\u001b[0;34m(self, hook_name, batch, logs)\u001b[0m\n\u001b[1;32m    354\u001b[0m     \u001b[0;32mfor\u001b[0m \u001b[0mcallback\u001b[0m \u001b[0;32min\u001b[0m \u001b[0mself\u001b[0m\u001b[0;34m.\u001b[0m\u001b[0mcallbacks\u001b[0m\u001b[0;34m:\u001b[0m\u001b[0;34m\u001b[0m\u001b[0;34m\u001b[0m\u001b[0m\n\u001b[1;32m    355\u001b[0m       \u001b[0mhook\u001b[0m \u001b[0;34m=\u001b[0m \u001b[0mgetattr\u001b[0m\u001b[0;34m(\u001b[0m\u001b[0mcallback\u001b[0m\u001b[0;34m,\u001b[0m \u001b[0mhook_name\u001b[0m\u001b[0;34m)\u001b[0m\u001b[0;34m\u001b[0m\u001b[0;34m\u001b[0m\u001b[0m\n\u001b[0;32m--> 356\u001b[0;31m       \u001b[0mhook\u001b[0m\u001b[0;34m(\u001b[0m\u001b[0mbatch\u001b[0m\u001b[0;34m,\u001b[0m \u001b[0mlogs\u001b[0m\u001b[0;34m)\u001b[0m\u001b[0;34m\u001b[0m\u001b[0;34m\u001b[0m\u001b[0m\n\u001b[0m\u001b[1;32m    357\u001b[0m \u001b[0;34m\u001b[0m\u001b[0m\n\u001b[1;32m    358\u001b[0m     \u001b[0;32mif\u001b[0m \u001b[0mself\u001b[0m\u001b[0;34m.\u001b[0m\u001b[0m_check_timing\u001b[0m\u001b[0;34m:\u001b[0m\u001b[0;34m\u001b[0m\u001b[0;34m\u001b[0m\u001b[0m\n",
            "\u001b[0;32m/usr/local/lib/python3.7/dist-packages/keras/callbacks.py\u001b[0m in \u001b[0;36mon_train_batch_end\u001b[0;34m(self, batch, logs)\u001b[0m\n\u001b[1;32m   1032\u001b[0m \u001b[0;34m\u001b[0m\u001b[0m\n\u001b[1;32m   1033\u001b[0m   \u001b[0;32mdef\u001b[0m \u001b[0mon_train_batch_end\u001b[0m\u001b[0;34m(\u001b[0m\u001b[0mself\u001b[0m\u001b[0;34m,\u001b[0m \u001b[0mbatch\u001b[0m\u001b[0;34m,\u001b[0m \u001b[0mlogs\u001b[0m\u001b[0;34m=\u001b[0m\u001b[0;32mNone\u001b[0m\u001b[0;34m)\u001b[0m\u001b[0;34m:\u001b[0m\u001b[0;34m\u001b[0m\u001b[0;34m\u001b[0m\u001b[0m\n\u001b[0;32m-> 1034\u001b[0;31m     \u001b[0mself\u001b[0m\u001b[0;34m.\u001b[0m\u001b[0m_batch_update_progbar\u001b[0m\u001b[0;34m(\u001b[0m\u001b[0mbatch\u001b[0m\u001b[0;34m,\u001b[0m \u001b[0mlogs\u001b[0m\u001b[0;34m)\u001b[0m\u001b[0;34m\u001b[0m\u001b[0;34m\u001b[0m\u001b[0m\n\u001b[0m\u001b[1;32m   1035\u001b[0m \u001b[0;34m\u001b[0m\u001b[0m\n\u001b[1;32m   1036\u001b[0m   \u001b[0;32mdef\u001b[0m \u001b[0mon_test_batch_end\u001b[0m\u001b[0;34m(\u001b[0m\u001b[0mself\u001b[0m\u001b[0;34m,\u001b[0m \u001b[0mbatch\u001b[0m\u001b[0;34m,\u001b[0m \u001b[0mlogs\u001b[0m\u001b[0;34m=\u001b[0m\u001b[0;32mNone\u001b[0m\u001b[0;34m)\u001b[0m\u001b[0;34m:\u001b[0m\u001b[0;34m\u001b[0m\u001b[0;34m\u001b[0m\u001b[0m\n",
            "\u001b[0;32m/usr/local/lib/python3.7/dist-packages/keras/callbacks.py\u001b[0m in \u001b[0;36m_batch_update_progbar\u001b[0;34m(self, batch, logs)\u001b[0m\n\u001b[1;32m   1105\u001b[0m       \u001b[0;31m# Only block async when verbose = 1.\u001b[0m\u001b[0;34m\u001b[0m\u001b[0;34m\u001b[0m\u001b[0;34m\u001b[0m\u001b[0m\n\u001b[1;32m   1106\u001b[0m       \u001b[0mlogs\u001b[0m \u001b[0;34m=\u001b[0m \u001b[0mtf_utils\u001b[0m\u001b[0;34m.\u001b[0m\u001b[0msync_to_numpy_or_python_type\u001b[0m\u001b[0;34m(\u001b[0m\u001b[0mlogs\u001b[0m\u001b[0;34m)\u001b[0m\u001b[0;34m\u001b[0m\u001b[0;34m\u001b[0m\u001b[0m\n\u001b[0;32m-> 1107\u001b[0;31m       \u001b[0mself\u001b[0m\u001b[0;34m.\u001b[0m\u001b[0mprogbar\u001b[0m\u001b[0;34m.\u001b[0m\u001b[0mupdate\u001b[0m\u001b[0;34m(\u001b[0m\u001b[0mself\u001b[0m\u001b[0;34m.\u001b[0m\u001b[0mseen\u001b[0m\u001b[0;34m,\u001b[0m \u001b[0mlist\u001b[0m\u001b[0;34m(\u001b[0m\u001b[0mlogs\u001b[0m\u001b[0;34m.\u001b[0m\u001b[0mitems\u001b[0m\u001b[0;34m(\u001b[0m\u001b[0;34m)\u001b[0m\u001b[0;34m)\u001b[0m\u001b[0;34m,\u001b[0m \u001b[0mfinalize\u001b[0m\u001b[0;34m=\u001b[0m\u001b[0;32mFalse\u001b[0m\u001b[0;34m)\u001b[0m\u001b[0;34m\u001b[0m\u001b[0;34m\u001b[0m\u001b[0m\n\u001b[0m\u001b[1;32m   1108\u001b[0m \u001b[0;34m\u001b[0m\u001b[0m\n\u001b[1;32m   1109\u001b[0m   \u001b[0;32mdef\u001b[0m \u001b[0m_finalize_progbar\u001b[0m\u001b[0;34m(\u001b[0m\u001b[0mself\u001b[0m\u001b[0;34m,\u001b[0m \u001b[0mlogs\u001b[0m\u001b[0;34m,\u001b[0m \u001b[0mcounter\u001b[0m\u001b[0;34m)\u001b[0m\u001b[0;34m:\u001b[0m\u001b[0;34m\u001b[0m\u001b[0;34m\u001b[0m\u001b[0m\n",
            "\u001b[0;32m/usr/local/lib/python3.7/dist-packages/keras/utils/generic_utils.py\u001b[0m in \u001b[0;36mupdate\u001b[0;34m(self, current, values, finalize)\u001b[0m\n\u001b[1;32m    974\u001b[0m \u001b[0;34m\u001b[0m\u001b[0m\n\u001b[1;32m    975\u001b[0m       \u001b[0mmessage\u001b[0m \u001b[0;34m+=\u001b[0m \u001b[0minfo\u001b[0m\u001b[0;34m\u001b[0m\u001b[0;34m\u001b[0m\u001b[0m\n\u001b[0;32m--> 976\u001b[0;31m       \u001b[0mio_utils\u001b[0m\u001b[0;34m.\u001b[0m\u001b[0mprint_msg\u001b[0m\u001b[0;34m(\u001b[0m\u001b[0mmessage\u001b[0m\u001b[0;34m,\u001b[0m \u001b[0mline_break\u001b[0m\u001b[0;34m=\u001b[0m\u001b[0;32mFalse\u001b[0m\u001b[0;34m)\u001b[0m\u001b[0;34m\u001b[0m\u001b[0;34m\u001b[0m\u001b[0m\n\u001b[0m\u001b[1;32m    977\u001b[0m       \u001b[0mmessage\u001b[0m \u001b[0;34m=\u001b[0m \u001b[0;34m''\u001b[0m\u001b[0;34m\u001b[0m\u001b[0;34m\u001b[0m\u001b[0m\n\u001b[1;32m    978\u001b[0m \u001b[0;34m\u001b[0m\u001b[0m\n",
            "\u001b[0;32m/usr/local/lib/python3.7/dist-packages/keras/utils/io_utils.py\u001b[0m in \u001b[0;36mprint_msg\u001b[0;34m(message, line_break)\u001b[0m\n\u001b[1;32m     36\u001b[0m     \u001b[0;32melse\u001b[0m\u001b[0;34m:\u001b[0m\u001b[0;34m\u001b[0m\u001b[0;34m\u001b[0m\u001b[0m\n\u001b[1;32m     37\u001b[0m       \u001b[0msys\u001b[0m\u001b[0;34m.\u001b[0m\u001b[0mstdout\u001b[0m\u001b[0;34m.\u001b[0m\u001b[0mwrite\u001b[0m\u001b[0;34m(\u001b[0m\u001b[0mmessage\u001b[0m\u001b[0;34m)\u001b[0m\u001b[0;34m\u001b[0m\u001b[0;34m\u001b[0m\u001b[0m\n\u001b[0;32m---> 38\u001b[0;31m     \u001b[0msys\u001b[0m\u001b[0;34m.\u001b[0m\u001b[0mstdout\u001b[0m\u001b[0;34m.\u001b[0m\u001b[0mflush\u001b[0m\u001b[0;34m(\u001b[0m\u001b[0;34m)\u001b[0m\u001b[0;34m\u001b[0m\u001b[0;34m\u001b[0m\u001b[0m\n\u001b[0m\u001b[1;32m     39\u001b[0m \u001b[0;34m\u001b[0m\u001b[0m\n\u001b[1;32m     40\u001b[0m \u001b[0;34m\u001b[0m\u001b[0m\n",
            "\u001b[0;32m/usr/local/lib/python3.7/dist-packages/ipykernel/iostream.py\u001b[0m in \u001b[0;36mflush\u001b[0;34m(self)\u001b[0m\n\u001b[1;32m    347\u001b[0m                 \u001b[0mself\u001b[0m\u001b[0;34m.\u001b[0m\u001b[0mpub_thread\u001b[0m\u001b[0;34m.\u001b[0m\u001b[0mschedule\u001b[0m\u001b[0;34m(\u001b[0m\u001b[0mevt\u001b[0m\u001b[0;34m.\u001b[0m\u001b[0mset\u001b[0m\u001b[0;34m)\u001b[0m\u001b[0;34m\u001b[0m\u001b[0;34m\u001b[0m\u001b[0m\n\u001b[1;32m    348\u001b[0m                 \u001b[0;31m# and give a timeout to avoid\u001b[0m\u001b[0;34m\u001b[0m\u001b[0;34m\u001b[0m\u001b[0;34m\u001b[0m\u001b[0m\n\u001b[0;32m--> 349\u001b[0;31m                 \u001b[0;32mif\u001b[0m \u001b[0;32mnot\u001b[0m \u001b[0mevt\u001b[0m\u001b[0;34m.\u001b[0m\u001b[0mwait\u001b[0m\u001b[0;34m(\u001b[0m\u001b[0mself\u001b[0m\u001b[0;34m.\u001b[0m\u001b[0mflush_timeout\u001b[0m\u001b[0;34m)\u001b[0m\u001b[0;34m:\u001b[0m\u001b[0;34m\u001b[0m\u001b[0;34m\u001b[0m\u001b[0m\n\u001b[0m\u001b[1;32m    350\u001b[0m                     \u001b[0;31m# write directly to __stderr__ instead of warning because\u001b[0m\u001b[0;34m\u001b[0m\u001b[0;34m\u001b[0m\u001b[0;34m\u001b[0m\u001b[0m\n\u001b[1;32m    351\u001b[0m                     \u001b[0;31m# if this is happening sys.stderr may be the problem.\u001b[0m\u001b[0;34m\u001b[0m\u001b[0;34m\u001b[0m\u001b[0;34m\u001b[0m\u001b[0m\n",
            "\u001b[0;32m/usr/lib/python3.7/threading.py\u001b[0m in \u001b[0;36mwait\u001b[0;34m(self, timeout)\u001b[0m\n\u001b[1;32m    550\u001b[0m             \u001b[0msignaled\u001b[0m \u001b[0;34m=\u001b[0m \u001b[0mself\u001b[0m\u001b[0;34m.\u001b[0m\u001b[0m_flag\u001b[0m\u001b[0;34m\u001b[0m\u001b[0;34m\u001b[0m\u001b[0m\n\u001b[1;32m    551\u001b[0m             \u001b[0;32mif\u001b[0m \u001b[0;32mnot\u001b[0m \u001b[0msignaled\u001b[0m\u001b[0;34m:\u001b[0m\u001b[0;34m\u001b[0m\u001b[0;34m\u001b[0m\u001b[0m\n\u001b[0;32m--> 552\u001b[0;31m                 \u001b[0msignaled\u001b[0m \u001b[0;34m=\u001b[0m \u001b[0mself\u001b[0m\u001b[0;34m.\u001b[0m\u001b[0m_cond\u001b[0m\u001b[0;34m.\u001b[0m\u001b[0mwait\u001b[0m\u001b[0;34m(\u001b[0m\u001b[0mtimeout\u001b[0m\u001b[0;34m)\u001b[0m\u001b[0;34m\u001b[0m\u001b[0;34m\u001b[0m\u001b[0m\n\u001b[0m\u001b[1;32m    553\u001b[0m             \u001b[0;32mreturn\u001b[0m \u001b[0msignaled\u001b[0m\u001b[0;34m\u001b[0m\u001b[0;34m\u001b[0m\u001b[0m\n\u001b[1;32m    554\u001b[0m \u001b[0;34m\u001b[0m\u001b[0m\n",
            "\u001b[0;32m/usr/lib/python3.7/threading.py\u001b[0m in \u001b[0;36mwait\u001b[0;34m(self, timeout)\u001b[0m\n\u001b[1;32m    298\u001b[0m             \u001b[0;32melse\u001b[0m\u001b[0;34m:\u001b[0m\u001b[0;34m\u001b[0m\u001b[0;34m\u001b[0m\u001b[0m\n\u001b[1;32m    299\u001b[0m                 \u001b[0;32mif\u001b[0m \u001b[0mtimeout\u001b[0m \u001b[0;34m>\u001b[0m \u001b[0;36m0\u001b[0m\u001b[0;34m:\u001b[0m\u001b[0;34m\u001b[0m\u001b[0;34m\u001b[0m\u001b[0m\n\u001b[0;32m--> 300\u001b[0;31m                     \u001b[0mgotit\u001b[0m \u001b[0;34m=\u001b[0m \u001b[0mwaiter\u001b[0m\u001b[0;34m.\u001b[0m\u001b[0macquire\u001b[0m\u001b[0;34m(\u001b[0m\u001b[0;32mTrue\u001b[0m\u001b[0;34m,\u001b[0m \u001b[0mtimeout\u001b[0m\u001b[0;34m)\u001b[0m\u001b[0;34m\u001b[0m\u001b[0;34m\u001b[0m\u001b[0m\n\u001b[0m\u001b[1;32m    301\u001b[0m                 \u001b[0;32melse\u001b[0m\u001b[0;34m:\u001b[0m\u001b[0;34m\u001b[0m\u001b[0;34m\u001b[0m\u001b[0m\n\u001b[1;32m    302\u001b[0m                     \u001b[0mgotit\u001b[0m \u001b[0;34m=\u001b[0m \u001b[0mwaiter\u001b[0m\u001b[0;34m.\u001b[0m\u001b[0macquire\u001b[0m\u001b[0;34m(\u001b[0m\u001b[0;32mFalse\u001b[0m\u001b[0;34m)\u001b[0m\u001b[0;34m\u001b[0m\u001b[0;34m\u001b[0m\u001b[0m\n",
            "\u001b[0;31mKeyboardInterrupt\u001b[0m: "
          ]
        }
      ],
      "source": [
        "#designing the model\n",
        "model=Sequential()\n",
        "model.add(Dense(64, input_dim=6, activation='relu'))\n",
        "model.add(Dropout(0.001))\n",
        "model.add(Dense(64, input_dim=6, activation='relu'))\n",
        "model.add(Dropout(0.001))\n",
        "model.add(Dense(4, activation='softmax', use_bias=False))\n",
        "\n",
        "#compile the model\n",
        "#adam = keras.optimizers.Adam(lr=0.01)\n",
        "adam = keras.optimizers.Adam(lr=0.001)\n",
        "model.compile(loss='categorical_crossentropy', optimizer=adam, metrics=['accuracy']) \n",
        "\n",
        "\n",
        "#fit the model\n",
        "checkpoint = keras.callbacks.ModelCheckpoint(filepath=\"trained_models/DrowDet_model(output4).hdf5\", period=1)\n",
        "tbCallBack = keras.callbacks.TensorBoard(log_dir='./scalar', histogram_freq=0, write_graph=True, write_images=True)\n",
        "history=model.fit(Xtrain, Ytrain, epochs=100, batch_size=256, callbacks=[checkpoint, tbCallBack], validation_data=(Xval,Yval))"
      ]
    },
    {
      "cell_type": "code",
      "execution_count": null,
      "metadata": {
        "id": "3ZayeT1aOlBM"
      },
      "outputs": [],
      "source": [
        "plt.figure(figsize=(12,10))\n",
        "plt.subplot(2,2,1)\n",
        "plt.plot(history.history['accuracy'])\n",
        "plt.plot(history.history['val_accuracy'])\n",
        "plt.ylim(0, 1)\n",
        "plt.title('Training Accuracy vs Validation Accuracy ')\n",
        "plt.ylabel('accuracy')\n",
        "plt.xlabel('epoch')\n",
        "plt.legend(['train', 'valid'], loc='lower right')\n",
        "plt.subplot(2,2,2)\n",
        "plt.plot(history.history['loss'])\n",
        "plt.plot(history.history['val_loss'])\n",
        "plt.title('Training Loss vs Validation Loss')\n",
        "plt.ylabel('loss')\n",
        "plt.xlabel('epoch')\n",
        "plt.legend(['train', 'valid'], loc='upper right')\n",
        "plt.ylim([0,2])"
      ]
    },
    {
      "cell_type": "code",
      "source": [
        "#calculating the testing score of the data\n",
        "predictions=model.predict(X_Test)\n",
        "prob3=predictions.argmax(axis=1)\n",
        "y_true=Y_Test.argmax(axis=1)\n",
        "y_prediction=prob3\n",
        "\n",
        "#confusion matrix\n",
        "results = confusion_matrix(y_true, y_prediction) \n",
        "print('testing Confusion Matrix :')\n",
        "print(results) \n",
        "print('testing Accuracy Score :',accuracy_score(y_true, y_prediction)) \n",
        "print('testing Report : ')\n",
        "print(classification_report(y_true, y_prediction)) "
      ],
      "metadata": {
        "id": "v035tvtxcWUF"
      },
      "execution_count": null,
      "outputs": []
    },
    {
      "cell_type": "code",
      "execution_count": null,
      "metadata": {
        "id": "xTWlfjTAqBvx"
      },
      "outputs": [],
      "source": [
        "from keras.layers import LSTM\n",
        "#designing the model\n",
        "model=Sequential()\n",
        "model.add(Dense(64, input_dim=6, activation='relu'))\n",
        "model.add(Dropout(0.001))\n",
        "model.add(Dense(64, input_dim=6, activation='relu'))\n",
        "model.add(Dropout(0.001))\n",
        "model.add(Dense(4, activation='softmax', use_bias=False))\n",
        "\n",
        "#compile the model\n",
        "#adam = keras.optimizers.Adam(lr=0.01)\n",
        "adam = keras.optimizers.RMSprop(lr=0.001)\n",
        "model.compile(loss='categorical_crossentropy', optimizer=adam, metrics=['accuracy']) \n",
        "\n",
        "\n",
        "#fit the model\n",
        "checkpoint = keras.callbacks.ModelCheckpoint(filepath=\"trained_models/DrowDet_model(output4).hdf5\", period=1)\n",
        "tbCallBack = keras.callbacks.TensorBoard(log_dir='./scalar', histogram_freq=0, write_graph=True, write_images=True)\n",
        "history=model.fit(Xtrain, Ytrain, epochs=50, batch_size=256, callbacks=[checkpoint, tbCallBack], validation_data=(Xval,Yval))\n",
        "\n",
        "\n",
        "\n",
        "\n",
        "\n",
        "\n",
        "\n",
        "\n",
        "\n",
        "\n",
        "\n",
        "\n",
        "\n",
        "\n"
      ]
    },
    {
      "cell_type": "code",
      "execution_count": null,
      "metadata": {
        "id": "hxYOL5XWWQ6S"
      },
      "outputs": [],
      "source": [
        "plt.figure(figsize=(12,10))\n",
        "plt.subplot(2,2,1)\n",
        "plt.plot(history.history['accuracy'])\n",
        "plt.plot(history.history['val_accuracy'])\n",
        "plt.ylim(0, 1)\n",
        "plt.title('Training Accuracy vs Validation Accuracy ')\n",
        "plt.ylabel('accuracy')\n",
        "plt.xlabel('epoch')\n",
        "plt.legend(['train', 'valid'], loc='lower right')\n",
        "plt.subplot(2,2,2)\n",
        "plt.plot(history.history['loss'])\n",
        "plt.plot(history.history['val_loss'])\n",
        "plt.title('Training Loss vs Validation Loss')\n",
        "plt.ylabel('loss')\n",
        "plt.xlabel('epoch')\n",
        "plt.legend(['train', 'valid'], loc='upper right')\n",
        "plt.ylim([0,2])\n"
      ]
    },
    {
      "cell_type": "code",
      "execution_count": null,
      "metadata": {
        "id": "8iqD8TQUo519"
      },
      "outputs": [],
      "source": [
        "predictions=model.predict(X_Test)\n",
        "prob3=predictions.argmax(axis=1)\n",
        "y_true=Y_Test.argmax(axis=1)\n",
        "y_prediction=prob3\n",
        "\n",
        "#confusion matrix\n",
        "results = confusion_matrix(y_true, y_prediction) \n",
        "print('testing Confusion Matrix :')\n",
        "print(results) \n",
        "print('testing Accuracy Score :',accuracy_score(y_true, y_prediction)) \n",
        "print('testing Report : ')\n",
        "print(classification_report(y_true, y_prediction)) \n"
      ]
    },
    {
      "cell_type": "code",
      "execution_count": null,
      "metadata": {
        "id": "3nw54r4t-pP7"
      },
      "outputs": [],
      "source": [
        "X_test_lstm = X_Test.reshape((X_Test.shape[0], 1, X_Test.shape[1]))"
      ]
    },
    {
      "cell_type": "code",
      "source": [
        "X_train_lstm = Xtrain.reshape(Xtrain.shape[0], 1, Xtrain.shape[1])\n",
        "Xval_lstm = Xval.reshape(Xval.shape[0], 1, Xval.shape[1])"
      ],
      "metadata": {
        "id": "Y-srVgc5cqiL"
      },
      "execution_count": null,
      "outputs": []
    },
    {
      "cell_type": "code",
      "source": [
        ""
      ],
      "metadata": {
        "id": "12cAGhUldbsD"
      },
      "execution_count": null,
      "outputs": []
    },
    {
      "cell_type": "code",
      "source": [
        "#LSTM\n",
        "import numpy as np\n",
        "#from keras.utils import to_categorical\n",
        "from tensorflow.keras.utils import to_categorical\n",
        "from keras.layers import Dense, Flatten, Dropout, ZeroPadding3D\n",
        "from keras.layers.recurrent import LSTM\n",
        "from keras.models import Sequential, load_model\n",
        "#from keras.optimizers import Adam, RMSprop\n",
        "from keras.layers.wrappers import TimeDistributed\n",
        "from keras.layers.convolutional import (Conv2D, MaxPooling3D, Conv3D,\n",
        "    MaxPooling2D)\n",
        "from collections import deque\n",
        "import sys\n",
        "\n",
        "metrics = ['accuracy']\n",
        "model = Sequential()\n",
        "\n",
        "model.add(LSTM(512, return_sequences=True,\n",
        "                       input_shape=(1, 6,),\n",
        "                       dropout=0.5))\n",
        "\n",
        "model.add(Flatten())\n",
        "\n",
        "model.add(Dense(32, activation='relu')) #FC2\n",
        "model.add(Dropout(0.5))\n",
        "model.add(Dense(16, activation='relu'))#FC3\n",
        "model.add(Dropout(0.5))\n",
        "model.add(Dense(4, activation='softmax'))#Output Layer\n",
        "#optimizer = Adam(lr=0.00005)\n",
        "adam = keras.optimizers.Adam(lr=0.01)\n",
        "model.compile(loss='categorical_crossentropy', optimizer=adam, metrics=metrics)\n",
        "model.fit(X_train_lstm, Ytrain, validation_data = (Xval_lstm,Yval), epochs=20, batch_size=  256)\n"
      ],
      "metadata": {
        "id": "N26Z5jCGwQxu"
      },
      "execution_count": null,
      "outputs": []
    },
    {
      "cell_type": "code",
      "source": [
        "predictions=model.predict(X_test_lstm)\n",
        "prob3=predictions.argmax(axis=1)\n",
        "y_true=Y_Test.argmax(axis=1)\n",
        "y_prediction=prob3\n",
        "\n",
        "#confusion matrix\n",
        "results = confusion_matrix(y_true, y_prediction) \n",
        "print('testing Confusion Matrix :')\n",
        "print(results) \n",
        "print('testing Accuracy Score :',accuracy_score(y_true, y_prediction)) \n",
        "print('testing Report : ')\n",
        "print(classification_report(y_true, y_prediction)) \n"
      ],
      "metadata": {
        "id": "fsDwxALDd_Ar"
      },
      "execution_count": null,
      "outputs": []
    },
    {
      "cell_type": "code",
      "source": [
        "plt.figure(figsize=(12,10))\n",
        "plt.subplot(2,2,1)\n",
        "plt.plot(history.history['accuracy'])\n",
        "plt.plot(history.history['val_accuracy'])\n",
        "plt.ylim(0, 1)\n",
        "plt.title('Training Accuracy vs Validation Accuracy ')\n",
        "plt.ylabel('accuracy')\n",
        "plt.xlabel('epoch')\n",
        "plt.legend(['train', 'valid'], loc='lower right')\n",
        "plt.subplot(2,2,2)\n",
        "plt.plot(history.history['loss'])\n",
        "plt.plot(history.history['val_loss'])\n",
        "plt.title('Training Loss vs Validation Loss')\n",
        "plt.ylabel('loss')\n",
        "plt.xlabel('epoch')\n",
        "plt.legend(['train', 'valid'], loc='upper right')\n",
        "plt.ylim([0,2])"
      ],
      "metadata": {
        "id": "uyjKTcjmewi_"
      },
      "execution_count": null,
      "outputs": []
    },
    {
      "cell_type": "code",
      "source": [
        "import numpy as np\n",
        "#from keras.utils import to_categorical\n",
        "from tensorflow.keras.utils import to_categorical\n",
        "from keras.layers import Dense, Flatten, Dropout, ZeroPadding3D\n",
        "from keras.layers.recurrent import LSTM\n",
        "from keras.models import Sequential, load_model\n",
        "#from keras.optimizers import Adam, RMSprop\n",
        "from keras.layers.wrappers import TimeDistributed\n",
        "from keras.layers.convolutional import (Conv2D, MaxPooling3D, Conv3D,\n",
        "    MaxPooling2D)\n",
        "from collections import deque\n",
        "import sys\n",
        "\n",
        "metrics = ['accuracy']\n",
        "model = Sequential()\n",
        "#model.add(Dense(1024, activation='sigmoid'))\n",
        "model.add(LSTM(512, return_sequences=True,\n",
        "                       input_shape=(1, 6,),\n",
        "                       dropout=0.5))\n",
        "\n",
        "model.add(Flatten())\n",
        "# Dense is fully connected layer. 16 hidden units\n",
        "# activation for lstm is basically sigmoid or tanh\n",
        "#model.add(Dense(216, activation='sigmoid')) #FC1\n",
        "model.add(Dense(32, activation='relu')) #FC2\n",
        "model.add(Dropout(0.5))\n",
        "model.add(Dense(16, activation='relu'))#FC3\n",
        "model.add(Dropout(0.5))\n",
        "model.add(Dense(4, activation='softmax'))#Output Layer\n",
        "#optimizer = Adam(lr=0.00005)\n",
        "adam = keras.optimizers.Adam(lr=0.01)\n",
        "model.compile(loss='categorical_crossentropy', optimizer=adam, metrics=metrics)\n",
        "model.fit(X_train_lstm, Ytrain, validation_data = (Xval_lstm,Yval), epochs=50, batch_size=  256)\n"
      ],
      "metadata": {
        "id": "5Ztf56YmeM76"
      },
      "execution_count": null,
      "outputs": []
    },
    {
      "cell_type": "code",
      "source": [
        "plt.figure(figsize=(12,10))\n",
        "plt.subplot(2,2,1)\n",
        "plt.plot(history.history['accuracy'])\n",
        "plt.plot(history.history['val_accuracy'])\n",
        "plt.ylim(0, 1)\n",
        "plt.title('Training Accuracy vs Validation Accuracy ')\n",
        "plt.ylabel('accuracy')\n",
        "plt.xlabel('epoch')\n",
        "plt.legend(['train', 'valid'], loc='lower right')\n",
        "plt.subplot(2,2,2)\n",
        "plt.plot(history.history['loss'])\n",
        "plt.plot(history.history['val_loss'])\n",
        "plt.title('Training Loss vs Validation Loss')\n",
        "plt.ylabel('loss')\n",
        "plt.xlabel('epoch')\n",
        "plt.legend(['train', 'valid'], loc='upper right')\n",
        "plt.ylim([0,2])"
      ],
      "metadata": {
        "id": "tLW6NG9kezVH"
      },
      "execution_count": null,
      "outputs": []
    },
    {
      "cell_type": "code",
      "source": [
        "predictions=model.predict(X_test_lstm)\n",
        "prob3=predictions.argmax(axis=1)\n",
        "y_true=Y_Test.argmax(axis=1)\n",
        "y_prediction=prob3\n",
        "\n",
        "#confusion matrix\n",
        "results = confusion_matrix(y_true, y_prediction) \n",
        "print('testing Confusion Matrix :')\n",
        "print(results) \n",
        "print('testing Accuracy Score :',accuracy_score(y_true, y_prediction)) \n",
        "print('testing Report : ')\n",
        "print(classification_report(y_true, y_prediction)) "
      ],
      "metadata": {
        "id": "0E0RxSjMeRbV"
      },
      "execution_count": null,
      "outputs": []
    }
  ],
  "metadata": {
    "accelerator": "TPU",
    "colab": {
      "machine_shape": "hm",
      "name": "Data255_project.ipynb",
      "provenance": [],
      "collapsed_sections": []
    },
    "kernelspec": {
      "display_name": "Python 3",
      "name": "python3"
    },
    "language_info": {
      "name": "python"
    }
  },
  "nbformat": 4,
  "nbformat_minor": 0
}